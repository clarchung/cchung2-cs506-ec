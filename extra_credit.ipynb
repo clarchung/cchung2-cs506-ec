{
 "cells": [
  {
   "cell_type": "code",
   "execution_count": 2,
   "metadata": {},
   "outputs": [],
   "source": [
    "import pandas as pd\n",
    "import numpy as np\n",
    "from sklearn.model_selection import train_test_split, GridSearchCV\n",
    "from sklearn.ensemble import GradientBoostingClassifier\n",
    "from sklearn.preprocessing import LabelEncoder\n",
    "from sklearn.metrics import f1_score\n",
    "import matplotlib.pyplot as plt\n",
    "import seaborn as sns"
   ]
  },
  {
   "cell_type": "code",
   "execution_count": 37,
   "metadata": {},
   "outputs": [
    {
     "name": "stdout",
     "output_type": "stream",
     "text": [
      "        id                         trans_num  trans_date trans_time  \\\n",
      "0   308467  26ad750c2ff71f32631b58913582d70a  2024-01-10   06:49:39   \n",
      "1   261578  fea9c1efe3f2b97f27ad0ab5409ec861  2024-01-06   02:37:50   \n",
      "2      341  2ae350b982be840f3666273e0c2f3a05  2024-01-18   21:40:21   \n",
      "3  1147639  bbdd8adfc0a34ed0e817f809193c85c0  2024-01-21   16:20:15   \n",
      "4   314152  fc7756004dc2a9bc450eb894a670b804  2024-01-21   19:36:26   \n",
      "\n",
      "    unix_time        category     amt            cc_num    first     last  \\\n",
      "0  1704887379        misc_pos  188.38      676355457570   Andrea  Johnson   \n",
      "1  1704526670     grocery_pos  102.63   377178373574671   Rhonda   Chavez   \n",
      "2  1705632021   entertainment    1.62  3599292013370451  Stephen     Khan   \n",
      "3  1705872015  health_fitness    5.64  3594292572430345   Justin   Reilly   \n",
      "4  1705883786  health_fitness   97.09  4867547663675548    Alice   Duarte   \n",
      "\n",
      "   ...    zip      lat      long city_pop                          job  \\\n",
      "0  ...  62220  38.5127  -89.9847    95666        Accounting technician   \n",
      "1  ...  21784  39.4567  -76.9696    37941            Designer, graphic   \n",
      "2  ...  49735  45.0125  -84.6723    19515  Careers information officer   \n",
      "3  ...  44256  41.1404  -81.8584    62039         Merchandiser, retail   \n",
      "4  ...  91501  34.1862 -118.3009   106841               Prison officer   \n",
      "\n",
      "          dob                          merchant  merch_lat  merch_long  \\\n",
      "0  1983-05-26          fraud_Turcotte-Halvorson  39.268874  -89.273447   \n",
      "1  1976-12-03         fraud_Schamberger-O'Keefe  39.961495  -76.707640   \n",
      "2  1999-08-24  fraud_Nicolas, Hills and McGlynn  44.393561  -85.342323   \n",
      "3  1930-02-24                 fraud_Cormier LLC  40.283764  -81.639361   \n",
      "4  1951-10-15                 fraud_Kulas Group  35.149704 -118.087440   \n",
      "\n",
      "  is_fraud  \n",
      "0        0  \n",
      "1        0  \n",
      "2        0  \n",
      "3        0  \n",
      "4        0  \n",
      "\n",
      "[5 rows x 24 columns]\n",
      "<class 'pandas.core.frame.DataFrame'>\n",
      "RangeIndex: 370703 entries, 0 to 370702\n",
      "Data columns (total 24 columns):\n",
      " #   Column      Non-Null Count   Dtype  \n",
      "---  ------      --------------   -----  \n",
      " 0   id          370703 non-null  int64  \n",
      " 1   trans_num   370703 non-null  object \n",
      " 2   trans_date  370703 non-null  object \n",
      " 3   trans_time  370703 non-null  object \n",
      " 4   unix_time   370703 non-null  int64  \n",
      " 5   category    370703 non-null  object \n",
      " 6   amt         370703 non-null  float64\n",
      " 7   cc_num      370703 non-null  int64  \n",
      " 8   first       370703 non-null  object \n",
      " 9   last        370703 non-null  object \n",
      " 10  gender      370703 non-null  object \n",
      " 11  street      370703 non-null  object \n",
      " 12  city        370703 non-null  object \n",
      " 13  state       370703 non-null  object \n",
      " 14  zip         370703 non-null  int64  \n",
      " 15  lat         370703 non-null  float64\n",
      " 16  long        370703 non-null  float64\n",
      " 17  city_pop    370703 non-null  int64  \n",
      " 18  job         370703 non-null  object \n",
      " 19  dob         370703 non-null  object \n",
      " 20  merchant    370703 non-null  object \n",
      " 21  merch_lat   370703 non-null  float64\n",
      " 22  merch_long  370703 non-null  float64\n",
      " 23  is_fraud    370703 non-null  int64  \n",
      "dtypes: float64(5), int64(6), object(13)\n",
      "memory usage: 67.9+ MB\n",
      "None\n",
      "is_fraud\n",
      "0    0.885895\n",
      "1    0.114105\n",
      "Name: proportion, dtype: float64\n"
     ]
    }
   ],
   "source": [
    "train = pd.read_csv('train.csv')\n",
    "test = pd.read_csv('test.csv')\n",
    "\n",
    "target = 'is_fraud'\n",
    "\n",
    "# Separate features and target\n",
    "X = train.drop(columns=[target])\n",
    "y = train[target]\n",
    "\n",
    "print(train.head())\n",
    "print(train.info())\n",
    "\n",
    "# Check target variable distribution\n",
    "print(train['is_fraud'].value_counts(normalize=True))\n",
    "\n",
    "# Keep 'id' for test set\n",
    "test_ids = test['id']"
   ]
  },
  {
   "cell_type": "code",
   "execution_count": 38,
   "metadata": {},
   "outputs": [],
   "source": [
    "from sklearn.impute import SimpleImputer\n",
    "\n",
    "\n",
    "def preprocess_data(df, drop_cols):\n",
    "    # Convert date/time if available\n",
    "    if 'trans_date' in df.columns and 'trans_time' in df.columns:\n",
    "        df['trans_datetime'] = pd.to_datetime(df['trans_date'] + ' ' + df['trans_time'], errors='coerce')\n",
    "        df['hour'] = df['trans_datetime'].dt.hour\n",
    "        df['day_of_week'] = df['trans_datetime'].dt.dayofweek\n",
    "        df['day'] = df['trans_datetime'].dt.day\n",
    "        df.drop(['trans_datetime', 'trans_date', 'trans_time'], axis=1, inplace=True, errors='ignore')\n",
    "\n",
    "    # Don't drop lat/long columns here if you need them for haversine_distance\n",
    "    # Remove only columns you are sure you won't need\n",
    "    safe_drop = [c for c in drop_cols if c not in ['lat','long','merch_lat','merch_long']]\n",
    "    df.drop(columns=safe_drop, inplace=True, errors='ignore')\n",
    "\n",
    "    # Separate numeric and categorical columns\n",
    "    num_cols = df.select_dtypes(include=[np.number]).columns.tolist()\n",
    "    cat_cols = df.select_dtypes(include=['object']).columns.tolist()\n",
    "\n",
    "    # Impute numeric columns\n",
    "    if len(num_cols) > 0:\n",
    "        num_imputer = SimpleImputer(strategy='median')\n",
    "        df[num_cols] = num_imputer.fit_transform(df[num_cols])\n",
    "\n",
    "    # Impute categorical columns\n",
    "    if len(cat_cols) > 0:\n",
    "        cat_imputer = SimpleImputer(strategy='most_frequent')\n",
    "        df[cat_cols] = cat_imputer.fit_transform(df[cat_cols])\n",
    "\n",
    "    # Fill any remaining NaN\n",
    "    df.fillna(-999, inplace=True)\n",
    "\n",
    "    return df\n",
    "\n",
    "\n",
    "# List of columns to drop\n",
    "'''\n",
    "drop_cols = ['id', 'trans_num', 'unix_time', 'first', 'last', 'street', 'city', 'state', \n",
    "             'zip', 'job', 'dob', 'lat', 'long', 'merch_lat', 'merch_long']\n",
    "             '''\n",
    "\n",
    "drop_cols = [\n",
    "    'id', 'trans_num', 'unix_time', 'cc_num', 'first', 'last', \n",
    "    'street', 'city', 'state', 'job', 'dob', 'merchant' \n",
    "    # Notice we do NOT drop 'zip' and 'category' yet because we need them for ratio features\n",
    "]\n",
    "\n",
    "# Preprocess training and test sets\n",
    "X = preprocess_data(X, drop_cols)\n",
    "\n",
    "test = preprocess_data(test, drop_cols)\n",
    "\n",
    "\n",
    "# Handle categorical features consistently\n",
    "cat_cols = X.select_dtypes(include=['object']).columns.tolist()\n",
    "for col in cat_cols:\n",
    "    le = LabelEncoder()\n",
    "    combined = pd.concat([X[col], test[col]], axis=0).astype(str)  # Combine for consistent encoding\n",
    "    le.fit(combined)\n",
    "    X[col] = le.transform(X[col].astype(str))\n",
    "    test[col] = le.transform(test[col].astype(str))\n",
    "\n",
    "\n",
    "def process_datetime_features(df):\n",
    "    # If trans_date and trans_time are given as strings\n",
    "    # Combine them into a single datetime column if needed\n",
    "    if 'trans_date' in df.columns and 'trans_time' in df.columns:\n",
    "        df['trans_datetime'] = pd.to_datetime(df['trans_date'] + ' ' + df['trans_time'])\n",
    "        df['hour'] = df['trans_datetime'].dt.hour\n",
    "        df['day_of_week'] = df['trans_datetime'].dt.dayofweek\n",
    "        df['day'] = df['trans_datetime'].dt.day\n",
    "        df.drop(['trans_datetime','trans_date','trans_time'], axis=1, inplace=True, errors='ignore')\n",
    "    return df\n",
    "\n",
    "X = process_datetime_features(X)\n",
    "test = process_datetime_features(test)\n",
    "\n",
    "# 2. Drop columns that may not be predictive or are unique identifiers\n",
    "drop_cols = ['id', 'trans_num', 'unix_time', 'cc_num', 'first', 'last', 'street', 'city', 'state', 'zip', 'job', 'dob', \n",
    "             'merchant', 'lat', 'long', 'merch_lat', 'merch_long']\n",
    "for col in drop_cols:\n",
    "    if col in X.columns:\n",
    "        X.drop(col, axis=1, inplace=True)\n",
    "    if col in test.columns:\n",
    "        test.drop(col, axis=1, inplace=True)\n",
    "\n",
    "# 3. Handle categorical features\n",
    "# Identify categorical columns (object type)\n",
    "cat_cols = X.select_dtypes(include=['object']).columns.tolist()"
   ]
  },
  {
   "cell_type": "code",
   "execution_count": 39,
   "metadata": {},
   "outputs": [
    {
     "name": "stderr",
     "output_type": "stream",
     "text": [
      "/var/folders/mw/d6jh5r755yj5xb4v20prr1g00000gn/T/ipykernel_14866/4156341292.py:75: FutureWarning: A value is trying to be set on a copy of a DataFrame or Series through chained assignment using an inplace method.\n",
      "The behavior will change in pandas 3.0. This inplace method will never work because the intermediate object on which we are setting values always behaves as a copy.\n",
      "\n",
      "For example, when doing 'df[col].method(value, inplace=True)', try using 'df.method({col: value}, inplace=True)' or df[col] = df[col].method(value) instead, to perform the operation inplace on the original object.\n",
      "\n",
      "\n",
      "  X_train['fraud_ratio_cat'].fillna(global_fraud_ratio, inplace=True)\n",
      "/var/folders/mw/d6jh5r755yj5xb4v20prr1g00000gn/T/ipykernel_14866/4156341292.py:76: FutureWarning: A value is trying to be set on a copy of a DataFrame or Series through chained assignment using an inplace method.\n",
      "The behavior will change in pandas 3.0. This inplace method will never work because the intermediate object on which we are setting values always behaves as a copy.\n",
      "\n",
      "For example, when doing 'df[col].method(value, inplace=True)', try using 'df.method({col: value}, inplace=True)' or df[col] = df[col].method(value) instead, to perform the operation inplace on the original object.\n",
      "\n",
      "\n",
      "  X_test['fraud_ratio_cat'].fillna(global_fraud_ratio, inplace=True)\n"
     ]
    }
   ],
   "source": [
    "def haversine_distance(lat1, lon1, lat2, lon2):\n",
    "    # Convert decimal degrees to radians\n",
    "    lat1, lon1, lat2, lon2 = map(np.radians, [lat1, lon1, lat2, lon2])\n",
    "    # Haversine formula\n",
    "    dlon = lon2 - lon1 \n",
    "    dlat = lat2 - lat1 \n",
    "    a = np.sin(dlat / 2)**2 + np.cos(lat1) * np.cos(lat2) * np.sin(dlon / 2)**2\n",
    "    c = 2 * np.arcsin(np.sqrt(a))\n",
    "    # Earth radius in km\n",
    "    r = 6371  \n",
    "    return c * r\n",
    "\n",
    "\n",
    "def feature_engineering(df):\n",
    "    # Log-transform transaction amount\n",
    "    if 'amt' in df.columns:\n",
    "        df['amt_log'] = np.log1p(df['amt'])\n",
    "        # Bin transaction amounts\n",
    "        df['amt_bin'] = pd.cut(df['amt'], bins=[0, 50, 100, 500, 1000, 5000, np.inf], labels=False, include_lowest=True)\n",
    "\n",
    "    # Hour-Category interaction\n",
    "    if 'hour' in df.columns and 'category' in df.columns:\n",
    "        df['hour_category'] = df['hour'].astype(str) + '_' + df['category'].astype(str)\n",
    "\n",
    "    # Peak hour flag\n",
    "    if 'hour' in df.columns:\n",
    "        df['is_peak_hour'] = df['hour'].apply(lambda x: 1 if 8 <= x <= 20 else 0)\n",
    "\n",
    "    # High transaction amount flag\n",
    "    if 'amt' in df.columns:\n",
    "        df['is_high_amt'] = (df['amt'] > 5000).astype(int)\n",
    "\n",
    "    # Compute Haversine distance if location columns are available\n",
    "    if all(c in df.columns for c in ['lat','long','merch_lat','merch_long']):\n",
    "        df['distance'] = haversine_distance(df['lat'], df['long'], df['merch_lat'], df['merch_long'])\n",
    "        # Drop the original lat/long columns after computing distance\n",
    "        df.drop(['lat','long','merch_lat','merch_long'], axis=1, inplace=True, errors='ignore')\n",
    "\n",
    "    return df\n",
    "\n",
    "# New function to add ratio-based features\n",
    "def add_ratio_features(X_train, y_train, X_test):\n",
    "    # Compute fraud ratio by zip code\n",
    "    # Make sure 'zip' column exists in X_train before using this\n",
    "    if 'zip' in X_train.columns:\n",
    "        zip_stats = pd.DataFrame({\n",
    "            'fraud_count': y_train.groupby(X_train['zip']).sum(),\n",
    "            'total_count': X_train.groupby('zip').size()\n",
    "        }).reset_index()\n",
    "        zip_stats['fraud_ratio_zip'] = zip_stats['fraud_count'] / zip_stats['total_count']\n",
    "\n",
    "        # Map back to train and test\n",
    "        X_train = X_train.merge(zip_stats[['zip', 'fraud_ratio_zip']], on='zip', how='left')\n",
    "        X_test = X_test.merge(zip_stats[['zip', 'fraud_ratio_zip']], on='zip', how='left')\n",
    "        \n",
    "        # Fill missing ratios for unseen zips in test with global fraud ratio\n",
    "        global_fraud_ratio = y_train.mean()\n",
    "        X_train['fraud_ratio_zip'].fillna(global_fraud_ratio, inplace=True)\n",
    "        X_test['fraud_ratio_zip'].fillna(global_fraud_ratio, inplace=True)\n",
    "\n",
    "    # Compute fraud ratio by category\n",
    "    if 'category' in X_train.columns:\n",
    "        cat_stats = pd.DataFrame({\n",
    "            'fraud_count_cat': y_train.groupby(X_train['category']).sum(),\n",
    "            'total_count_cat': X_train.groupby('category').size()\n",
    "        }).reset_index()\n",
    "        cat_stats['fraud_ratio_cat'] = cat_stats['fraud_count_cat'] / cat_stats['total_count_cat']\n",
    "\n",
    "        # Map back to train and test\n",
    "        X_train = X_train.merge(cat_stats[['category', 'fraud_ratio_cat']], on='category', how='left')\n",
    "        X_test = X_test.merge(cat_stats[['category', 'fraud_ratio_cat']], on='category', how='left')\n",
    "\n",
    "        # Fill missing ratios for unseen categories with global fraud ratio\n",
    "        global_fraud_ratio = y_train.mean()\n",
    "        X_train['fraud_ratio_cat'].fillna(global_fraud_ratio, inplace=True)\n",
    "        X_test['fraud_ratio_cat'].fillna(global_fraud_ratio, inplace=True)\n",
    "\n",
    "    return X_train, X_test\n",
    "\n",
    "# Add ratio features\n",
    "X, test = add_ratio_features(X, y, test)\n",
    "\n",
    "X = feature_engineering(X)\n",
    "test = feature_engineering(test)\n",
    "\n",
    "\n",
    "# Handle categorical features (after all feature engineering)\n",
    "cat_cols = X.select_dtypes(include=['object']).columns.tolist()\n",
    "for col in cat_cols:\n",
    "    le = LabelEncoder()\n",
    "    combined = pd.concat([X[col], test[col]], axis=0).astype(str)\n",
    "    le.fit(combined)\n",
    "    X[col] = le.transform(X[col].astype(str))\n",
    "    test[col] = le.transform(test[col].astype(str))\n",
    "\n",
    "# Fill any remaining missing values\n",
    "X.fillna(-999, inplace=True)\n",
    "test.fillna(-999, inplace=True)\n"
   ]
  },
  {
   "cell_type": "code",
   "execution_count": 40,
   "metadata": {},
   "outputs": [
    {
     "name": "stdout",
     "output_type": "stream",
     "text": [
      "Total number of NaN values: 0\n"
     ]
    }
   ],
   "source": [
    "total_nans = X.isnull().sum().sum()\n",
    "print(f\"Total number of NaN values: {total_nans}\")\n"
   ]
  },
  {
   "cell_type": "code",
   "execution_count": 41,
   "metadata": {},
   "outputs": [],
   "source": [
    "from imblearn.over_sampling import SMOTE\n",
    "\n",
    "# Train-validation split\n",
    "X_train, X_val, y_train, y_val = train_test_split(X, y, test_size=0.2, random_state=42, stratify=y)\n",
    "\n",
    "# Handle class imbalance with SMOTE\n",
    "sm = SMOTE(random_state=42)\n",
    "X_train_resampled, y_train_resampled = sm.fit_resample(X_train, y_train)"
   ]
  },
  {
   "cell_type": "code",
   "execution_count": 42,
   "metadata": {},
   "outputs": [
    {
     "name": "stdout",
     "output_type": "stream",
     "text": [
      "Fitting 3 folds for each of 1 candidates, totalling 3 fits\n"
     ]
    },
    {
     "name": "stderr",
     "output_type": "stream",
     "text": [
      "/Library/Frameworks/Python.framework/Versions/3.10/lib/python3.10/site-packages/sklearn/model_selection/_search.py:320: UserWarning: The total space of parameters 1 is smaller than n_iter=20. Running 1 iterations. For exhaustive searches, use GridSearchCV.\n",
      "  warnings.warn(\n"
     ]
    },
    {
     "name": "stdout",
     "output_type": "stream",
     "text": [
      "Best Parameters: {'n_estimators': 200, 'min_samples_split': 2, 'min_samples_leaf': 1, 'max_features': 'sqrt', 'max_depth': 20, 'bootstrap': True}\n",
      "Validation F1 Score: 0.9598103141671607\n"
     ]
    }
   ],
   "source": [
    "from sklearn.ensemble import RandomForestClassifier\n",
    "from sklearn.model_selection import RandomizedSearchCV\n",
    "\n",
    "# Define the parameter grid with reduced ranges\n",
    "param_grid_test = {\n",
    "    'n_estimators': [100, 200],\n",
    "    'max_depth': [10, 20],\n",
    "    'min_samples_split': [2, 5],\n",
    "    'min_samples_leaf': [1, 2],\n",
    "    'max_features': ['sqrt', 'log2'],\n",
    "    'bootstrap': [True],\n",
    "}\n",
    "\n",
    "param_grid = {\n",
    "    'n_estimators': [200],\n",
    "    'max_depth': [20],\n",
    "    'min_samples_split': [2],\n",
    "    'min_samples_leaf': [1],\n",
    "    'max_features': ['sqrt'],\n",
    "    'bootstrap': [True],\n",
    "}\n",
    "\n",
    "# Best Parameters: {'n_estimators': 200, 'min_samples_split': 2, 'min_samples_leaf': 1, 'max_features': 'sqrt', 'max_depth': 20, 'bootstrap': True}\n",
    "# Randomized Search with fewer iterations and 3-fold CV\n",
    "random_search = RandomizedSearchCV(\n",
    "    estimator=RandomForestClassifier(random_state=42),\n",
    "    param_distributions=param_grid,\n",
    "    n_iter=20,  # Fewer iterations for speed\n",
    "    scoring='f1',\n",
    "    cv=3,  \n",
    "    verbose=1,\n",
    "    n_jobs=-1,  # Use all cores\n",
    "    random_state=42\n",
    ")\n",
    "\n",
    "# Fit the RandomizedSearchCV on a smaller subset (optional)\n",
    "X_sample, _, y_sample, _ = train_test_split(X_train, y_train, test_size=0.8, random_state=42, stratify=y_train)\n",
    "#random_search.fit(X_sample, y_sample)\n",
    "model = random_search.fit(X_train_resampled, y_train_resampled)\n",
    "\n",
    "\n",
    "# Get the best model\n",
    "best_rf_model = random_search.best_estimator_\n",
    "print(\"Best Parameters:\", random_search.best_params_)\n",
    "\n",
    "# Validate the model\n",
    "val_preds = best_rf_model.predict(X_val)\n",
    "print(\"Validation F1 Score:\", f1_score(y_val, val_preds))\n"
   ]
  },
  {
   "cell_type": "code",
   "execution_count": 43,
   "metadata": {},
   "outputs": [
    {
     "data": {
      "image/png": "[encoded data removed]",
      "text/plain": [
       "<Figure size 1000x600 with 1 Axes>"
      ]
     },
     "metadata": {},
     "output_type": "display_data"
    }
   ],
   "source": [
    "importances = best_rf_model.feature_importances_\n",
    "feature_names = X_train.columns\n",
    "\n",
    "# Sort features by importance\n",
    "sorted_indices = np.argsort(importances)[::-1]\n",
    "\n",
    "# Plot top features\n",
    "plt.figure(figsize=(10, 6))\n",
    "plt.bar(range(len(importances)), importances[sorted_indices])\n",
    "plt.xticks(range(len(importances)), feature_names[sorted_indices], rotation=90)\n",
    "plt.title(\"Feature Importances\")\n",
    "plt.show()\n",
    "\n",
    "\n",
    "test_preds = best_rf_model.predict(test)\n"
   ]
  },
  {
   "cell_type": "code",
   "execution_count": 44,
   "metadata": {},
   "outputs": [
    {
     "name": "stdout",
     "output_type": "stream",
     "text": [
      "Validation F1 Score: 0.9598\n"
     ]
    }
   ],
   "source": [
    "# Validate the model on the validation set\n",
    "#val_preds = best_rf_model.predict(X_val)\n",
    "val_preds = model.predict(X_val)\n",
    "val_f1 = f1_score(y_val, val_preds)\n",
    "print(f\"Validation F1 Score: {val_f1:.4f}\")\n",
    "\n",
    "# Predict on the test set\n",
    "test_preds = best_rf_model.predict(test)"
   ]
  },
  {
   "cell_type": "code",
   "execution_count": 45,
   "metadata": {},
   "outputs": [
    {
     "name": "stdout",
     "output_type": "stream",
     "text": [
      "Confusion Matrix:\n",
      " [[65367   314]\n",
      " [  364  8096]]\n"
     ]
    },
    {
     "data": {
      "image/png": "[encoded data removed]",
      "text/plain": [
       "<Figure size 600x400 with 2 Axes>"
      ]
     },
     "metadata": {},
     "output_type": "display_data"
    }
   ],
   "source": [
    "from sklearn.metrics import f1_score, confusion_matrix\n",
    "# Confusion Matrix\n",
    "cm = confusion_matrix(y_val, val_preds)\n",
    "print(\"Confusion Matrix:\\n\", cm)\n",
    "\n",
    "# Optional: Display confusion matrix as a heatmap\n",
    "plt.figure(figsize=(6,4))\n",
    "sns.heatmap(cm, annot=True, fmt='d', cmap='Blues', xticklabels=['Legitimate (0)', 'Fraud (1)'],\n",
    "            yticklabels=['Legitimate (0)', 'Fraud (1)'])\n",
    "plt.title('Confusion Matrix')\n",
    "plt.ylabel('True Label')\n",
    "plt.xlabel('Predicted Label')\n",
    "plt.show()"
   ]
  },
  {
   "cell_type": "code",
   "execution_count": 46,
   "metadata": {},
   "outputs": [
    {
     "name": "stdout",
     "output_type": "stream",
     "text": [
      "Submission file created: my_submission.csv\n"
     ]
    }
   ],
   "source": [
    "submission = pd.DataFrame({'id': test_ids, 'is_fraud': test_preds})\n",
    "submission.to_csv('my_submission.csv', index=False)\n",
    "print(\"Submission file created: my_submission.csv\")"
   ]
  },
  {
   "cell_type": "code",
   "execution_count": null,
   "metadata": {},
   "outputs": [],
   "source": []
  }
 ],
 "metadata": {
  "kernelspec": {
   "display_name": "Python 3",
   "language": "python",
   "name": "python3"
  },
  "language_info": {
   "codemirror_mode": {
    "name": "ipython",
    "version": 3
   },
   "file_extension": ".py",
   "mimetype": "text/x-python",
   "name": "python",
   "nbconvert_exporter": "python",
   "pygments_lexer": "ipython3",
   "version": "3.10.11"
  }
 },
 "nbformat": 4,
 "nbformat_minor": 2
}
